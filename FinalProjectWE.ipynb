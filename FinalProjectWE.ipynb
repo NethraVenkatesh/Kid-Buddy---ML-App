{
  "nbformat": 4,
  "nbformat_minor": 0,
  "metadata": {
    "colab": {
      "provenance": []
    },
    "kernelspec": {
      "name": "python3",
      "display_name": "Python 3"
    },
    "language_info": {
      "name": "python"
    }
  },
  "cells": [
    {
      "cell_type": "markdown",
      "source": [
        "\n",
        "##_ML model for hand-written digit recognition_"
      ],
      "metadata": {
        "id": "XJ-r2C41vtyZ"
      }
    },
    {
      "cell_type": "markdown",
      "source": [
        "Setting up Environment"
      ],
      "metadata": {
        "id": "D6-3deD4S_7v"
      }
    },
    {
      "cell_type": "code",
      "source": [
        "# Python libraries (helper)\n",
        "import numpy as np\n",
        "import matplotlib.pyplot as plt\n",
        "\n",
        "# Tensorflow and keras\n",
        "import tensorflow as tf\n",
        "from tensorflow import keras\n",
        "import tensorflow.keras as keras\n",
        "from tensorflow.keras.optimizers import Adam"
      ],
      "metadata": {
        "id": "K3o4SpW4N0Z9"
      },
      "execution_count": 1,
      "outputs": []
    },
    {
      "cell_type": "markdown",
      "source": [
        "Loading MNIST dataset\n"
      ],
      "metadata": {
        "id": "_k9mnmEoXEY4"
      }
    },
    {
      "cell_type": "code",
      "source": [
        "mnist = tf.keras.datasets.mnist\n",
        "# x -> images, y -> labels\n",
        "(x_train, y_train), (x_test, y_test) = mnist.load_data()\n",
        "# creating output classes\n",
        "class_names = ['zero', 'one', 'two', 'three', 'four', 'five', 'six', 'seven', 'eight', 'nine']"
      ],
      "metadata": {
        "id": "d_odedoMN26C",
        "colab": {
          "base_uri": "https://localhost:8080/"
        },
        "outputId": "f03034ef-b8c2-452a-9bf1-4085df82cdbc"
      },
      "execution_count": 2,
      "outputs": [
        {
          "output_type": "stream",
          "name": "stdout",
          "text": [
            "Downloading data from https://storage.googleapis.com/tensorflow/tf-keras-datasets/mnist.npz\n",
            "11490434/11490434 [==============================] - 0s 0us/step\n"
          ]
        }
      ]
    },
    {
      "cell_type": "markdown",
      "source": [
        "Properties of dataset"
      ],
      "metadata": {
        "id": "-1xqEjrwZgD_"
      }
    },
    {
      "cell_type": "code",
      "source": [
        "# Dataset shape\n",
        "# array of 60000 images for training, 28x28 pixels each.\n",
        "print(x_train.shape)\n",
        "print(x_train[0].shape)"
      ],
      "metadata": {
        "colab": {
          "base_uri": "https://localhost:8080/"
        },
        "id": "eNvnLtG_LV6D",
        "outputId": "c75992ee-c717-4782-d4cc-39cd26fefff9"
      },
      "execution_count": 3,
      "outputs": [
        {
          "output_type": "stream",
          "name": "stdout",
          "text": [
            "(60000, 28, 28)\n",
            "(28, 28)\n"
          ]
        }
      ]
    },
    {
      "cell_type": "code",
      "source": [
        "# Example image\n",
        "# grayscale 28X28 pixels image display using matplotlib\n",
        "plt.imshow(x_train[0], cmap='gray')"
      ],
      "metadata": {
        "colab": {
          "base_uri": "https://localhost:8080/",
          "height": 282
        },
        "id": "8DqtQY6CpvQM",
        "outputId": "51ac213d-b47f-4994-9bdb-817ebcc356f4"
      },
      "execution_count": 4,
      "outputs": [
        {
          "output_type": "execute_result",
          "data": {
            "text/plain": [
              "<matplotlib.image.AxesImage at 0x7fd6cce6df10>"
            ]
          },
          "metadata": {},
          "execution_count": 4
        },
        {
          "output_type": "display_data",
          "data": {
            "text/plain": [
              "<Figure size 432x288 with 1 Axes>"
            ],
            "image/png": "[encoded data removed]"
          },
          "metadata": {
            "needs_background": "light"
          }
        }
      ]
    },
    {
      "cell_type": "code",
      "source": [
        "# array representation of training data\n",
        "print(x_train[0])"
      ],
      "metadata": {
        "colab": {
          "base_uri": "https://localhost:8080/"
        },
        "id": "Jw-2yrTQp3ns",
        "outputId": "0ea44bb4-6cec-446e-e0c8-39249c75e499"
      },
      "execution_count": 5,
      "outputs": [
        {
          "output_type": "stream",
          "name": "stdout",
          "text": [
            "[[  0   0   0   0   0   0   0   0   0   0   0   0   0   0   0   0   0   0\n",
            "    0   0   0   0   0   0   0   0   0   0]\n",
            " [  0   0   0   0   0   0   0   0   0   0   0   0   0   0   0   0   0   0\n",
            "    0   0   0   0   0   0   0   0   0   0]\n",
            " [  0   0   0   0   0   0   0   0   0   0   0   0   0   0   0   0   0   0\n",
            "    0   0   0   0   0   0   0   0   0   0]\n",
            " [  0   0   0   0   0   0   0   0   0   0   0   0   0   0   0   0   0   0\n",
            "    0   0   0   0   0   0   0   0   0   0]\n",
            " [  0   0   0   0   0   0   0   0   0   0   0   0   0   0   0   0   0   0\n",
            "    0   0   0   0   0   0   0   0   0   0]\n",
            " [  0   0   0   0   0   0   0   0   0   0   0   0   3  18  18  18 126 136\n",
            "  175  26 166 255 247 127   0   0   0   0]\n",
            " [  0   0   0   0   0   0   0   0  30  36  94 154 170 253 253 253 253 253\n",
            "  225 172 253 242 195  64   0   0   0   0]\n",
            " [  0   0   0   0   0   0   0  49 238 253 253 253 253 253 253 253 253 251\n",
            "   93  82  82  56  39   0   0   0   0   0]\n",
            " [  0   0   0   0   0   0   0  18 219 253 253 253 253 253 198 182 247 241\n",
            "    0   0   0   0   0   0   0   0   0   0]\n",
            " [  0   0   0   0   0   0   0   0  80 156 107 253 253 205  11   0  43 154\n",
            "    0   0   0   0   0   0   0   0   0   0]\n",
            " [  0   0   0   0   0   0   0   0   0  14   1 154 253  90   0   0   0   0\n",
            "    0   0   0   0   0   0   0   0   0   0]\n",
            " [  0   0   0   0   0   0   0   0   0   0   0 139 253 190   2   0   0   0\n",
            "    0   0   0   0   0   0   0   0   0   0]\n",
            " [  0   0   0   0   0   0   0   0   0   0   0  11 190 253  70   0   0   0\n",
            "    0   0   0   0   0   0   0   0   0   0]\n",
            " [  0   0   0   0   0   0   0   0   0   0   0   0  35 241 225 160 108   1\n",
            "    0   0   0   0   0   0   0   0   0   0]\n",
            " [  0   0   0   0   0   0   0   0   0   0   0   0   0  81 240 253 253 119\n",
            "   25   0   0   0   0   0   0   0   0   0]\n",
            " [  0   0   0   0   0   0   0   0   0   0   0   0   0   0  45 186 253 253\n",
            "  150  27   0   0   0   0   0   0   0   0]\n",
            " [  0   0   0   0   0   0   0   0   0   0   0   0   0   0   0  16  93 252\n",
            "  253 187   0   0   0   0   0   0   0   0]\n",
            " [  0   0   0   0   0   0   0   0   0   0   0   0   0   0   0   0   0 249\n",
            "  253 249  64   0   0   0   0   0   0   0]\n",
            " [  0   0   0   0   0   0   0   0   0   0   0   0   0   0  46 130 183 253\n",
            "  253 207   2   0   0   0   0   0   0   0]\n",
            " [  0   0   0   0   0   0   0   0   0   0   0   0  39 148 229 253 253 253\n",
            "  250 182   0   0   0   0   0   0   0   0]\n",
            " [  0   0   0   0   0   0   0   0   0   0  24 114 221 253 253 253 253 201\n",
            "   78   0   0   0   0   0   0   0   0   0]\n",
            " [  0   0   0   0   0   0   0   0  23  66 213 253 253 253 253 198  81   2\n",
            "    0   0   0   0   0   0   0   0   0   0]\n",
            " [  0   0   0   0   0   0  18 171 219 253 253 253 253 195  80   9   0   0\n",
            "    0   0   0   0   0   0   0   0   0   0]\n",
            " [  0   0   0   0  55 172 226 253 253 253 253 244 133  11   0   0   0   0\n",
            "    0   0   0   0   0   0   0   0   0   0]\n",
            " [  0   0   0   0 136 253 253 253 212 135 132  16   0   0   0   0   0   0\n",
            "    0   0   0   0   0   0   0   0   0   0]\n",
            " [  0   0   0   0   0   0   0   0   0   0   0   0   0   0   0   0   0   0\n",
            "    0   0   0   0   0   0   0   0   0   0]\n",
            " [  0   0   0   0   0   0   0   0   0   0   0   0   0   0   0   0   0   0\n",
            "    0   0   0   0   0   0   0   0   0   0]\n",
            " [  0   0   0   0   0   0   0   0   0   0   0   0   0   0   0   0   0   0\n",
            "    0   0   0   0   0   0   0   0   0   0]]\n"
          ]
        }
      ]
    },
    {
      "cell_type": "code",
      "source": [
        "# scaling of data\n",
        "x_train = tf.keras.utils.normalize(x_train, axis=1)\n",
        "x_test = tf.keras.utils.normalize(x_test, axis=1)"
      ],
      "metadata": {
        "id": "fVIOVHG2N5PA"
      },
      "execution_count": 6,
      "outputs": []
    },
    {
      "cell_type": "markdown",
      "source": [
        "Model Training"
      ],
      "metadata": {
        "id": "OM_FjVqaZnUk"
      }
    },
    {
      "cell_type": "code",
      "source": [
        "# model training\n",
        "model = tf.keras.models.Sequential()\n",
        "model.add(tf.keras.layers.Flatten())\n",
        "model.add(tf.keras.layers.Dense(128, activation=tf.nn.relu))\n",
        "model.add(tf.keras.layers.Dense(128, activation=tf.nn.relu))\n",
        "model.add(tf.keras.layers.Dense(10, activation=tf.nn.softmax))\n",
        "model.compile(optimizer='adam',\n",
        "              loss='sparse_categorical_crossentropy',\n",
        "              metrics=['accuracy'])"
      ],
      "metadata": {
        "id": "IqrszJ-fN9dL"
      },
      "execution_count": 7,
      "outputs": []
    },
    {
      "cell_type": "code",
      "source": [
        "model.fit(x_train, y_train, epochs=10)"
      ],
      "metadata": {
        "colab": {
          "base_uri": "https://localhost:8080/"
        },
        "id": "iktDc2T9OBJy",
        "outputId": "46d7eb7b-08aa-4a45-a3b0-961f9f8f3a35"
      },
      "execution_count": 8,
      "outputs": [
        {
          "output_type": "stream",
          "name": "stdout",
          "text": [
            "Epoch 1/10\n",
            "1875/1875 [==============================] - 14s 6ms/step - loss: 0.2610 - accuracy: 0.9232\n",
            "Epoch 2/10\n",
            "1875/1875 [==============================] - 11s 6ms/step - loss: 0.1042 - accuracy: 0.9674\n",
            "Epoch 3/10\n",
            "1875/1875 [==============================] - 7s 4ms/step - loss: 0.0708 - accuracy: 0.9779\n",
            "Epoch 4/10\n",
            "1875/1875 [==============================] - 6s 3ms/step - loss: 0.0503 - accuracy: 0.9838\n",
            "Epoch 5/10\n",
            "1875/1875 [==============================] - 7s 4ms/step - loss: 0.0395 - accuracy: 0.9870\n",
            "Epoch 6/10\n",
            "1875/1875 [==============================] - 6s 3ms/step - loss: 0.0289 - accuracy: 0.9906\n",
            "Epoch 7/10\n",
            "1875/1875 [==============================] - 7s 4ms/step - loss: 0.0256 - accuracy: 0.9914\n",
            "Epoch 8/10\n",
            "1875/1875 [==============================] - 6s 3ms/step - loss: 0.0200 - accuracy: 0.9932\n",
            "Epoch 9/10\n",
            "1875/1875 [==============================] - 7s 4ms/step - loss: 0.0173 - accuracy: 0.9938\n",
            "Epoch 10/10\n",
            "1875/1875 [==============================] - 6s 3ms/step - loss: 0.0147 - accuracy: 0.9949\n"
          ]
        },
        {
          "output_type": "execute_result",
          "data": {
            "text/plain": [
              "<keras.callbacks.History at 0x7fd6c9f74e20>"
            ]
          },
          "metadata": {},
          "execution_count": 8
        }
      ]
    },
    {
      "cell_type": "markdown",
      "source": [
        "Evaluation of Model"
      ],
      "metadata": {
        "id": "v95rBcR2qtMb"
      }
    },
    {
      "cell_type": "code",
      "source": [
        "model.summary()\n",
        "test_loss, test_accuracy = model.evaluate(x_test, y_test)"
      ],
      "metadata": {
        "colab": {
          "base_uri": "https://localhost:8080/"
        },
        "id": "bQhWZkn5O7cr",
        "outputId": "7f34c5fb-fed0-4e41-8baf-67b08b6256bb"
      },
      "execution_count": 9,
      "outputs": [
        {
          "output_type": "stream",
          "name": "stdout",
          "text": [
            "Model: \"sequential\"\n",
            "_________________________________________________________________\n",
            " Layer (type)                Output Shape              Param #   \n",
            "=================================================================\n",
            " flatten (Flatten)           (32, 784)                 0         \n",
            "                                                                 \n",
            " dense (Dense)               (32, 128)                 100480    \n",
            "                                                                 \n",
            " dense_1 (Dense)             (32, 128)                 16512     \n",
            "                                                                 \n",
            " dense_2 (Dense)             (32, 10)                  1290      \n",
            "                                                                 \n",
            "=================================================================\n",
            "Total params: 118,282\n",
            "Trainable params: 118,282\n",
            "Non-trainable params: 0\n",
            "_________________________________________________________________\n",
            "313/313 [==============================] - 1s 2ms/step - loss: 0.1105 - accuracy: 0.9762\n"
          ]
        }
      ]
    },
    {
      "cell_type": "markdown",
      "source": [
        "Save the model"
      ],
      "metadata": {
        "id": "yKnZeL-Pq_7Z"
      }
    },
    {
      "cell_type": "code",
      "source": [
        "keras_mnist_model_path = './mnist_model.h5'\n",
        "model.save(keras_mnist_model_path)"
      ],
      "metadata": {
        "id": "Wfj6DMNsPUCL"
      },
      "execution_count": 10,
      "outputs": []
    },
    {
      "cell_type": "markdown",
      "source": [
        "# New Model \n",
        "Loading the saved model"
      ],
      "metadata": {
        "id": "dqax9r9N8vOI"
      }
    },
    {
      "cell_type": "code",
      "source": [
        "new_model = tf.keras.models.load_model(keras_mnist_model_path)"
      ],
      "metadata": {
        "id": "ZCYjt6UoSMkT"
      },
      "execution_count": 11,
      "outputs": []
    },
    {
      "cell_type": "code",
      "source": [
        "# array the learned label for each object\n",
        "predictions = new_model.predict([x_test])\n",
        "print(np.argmax(predictions[1]))"
      ],
      "metadata": {
        "colab": {
          "base_uri": "https://localhost:8080/"
        },
        "id": "Muj3-WQ1SzGv",
        "outputId": "06d1c688-9e6b-485c-8f92-b3ac8be3440e"
      },
      "execution_count": 12,
      "outputs": [
        {
          "output_type": "stream",
          "name": "stdout",
          "text": [
            "313/313 [==============================] - 1s 2ms/step\n",
            "2\n"
          ]
        }
      ]
    },
    {
      "cell_type": "code",
      "source": [
        "# cross-checking if prediction of model is correct\n",
        "plt.imshow(x_test[1], cmap='gray')\n",
        "plt.show()"
      ],
      "metadata": {
        "colab": {
          "base_uri": "https://localhost:8080/",
          "height": 265
        },
        "id": "Sk158WkGex5s",
        "outputId": "f936ff2f-7aeb-414f-b66a-9ecfdf7d949e"
      },
      "execution_count": 13,
      "outputs": [
        {
          "output_type": "display_data",
          "data": {
            "text/plain": [
              "<Figure size 432x288 with 1 Axes>"
            ],
            "image/png": "[encoded data removed]"
          },
          "metadata": {
            "needs_background": "light"
          }
        }
      ]
    },
    {
      "cell_type": "markdown",
      "source": [
        "Image as input"
      ],
      "metadata": {
        "id": "5Exi6xXswDYb"
      }
    },
    {
      "cell_type": "code",
      "source": [
        "# Python Image library\n",
        "import PIL\n",
        "from PIL import Image, ImageOps\n",
        "image = Image.open('/content/mnist_sample_1_28_28.jpg')\n",
        "image"
      ],
      "metadata": {
        "colab": {
          "base_uri": "https://localhost:8080/",
          "height": 45
        },
        "id": "zBun8Pb3MfPA",
        "outputId": "1149c30a-60aa-49c9-8047-f152481dcaf3"
      },
      "execution_count": 14,
      "outputs": [
        {
          "output_type": "execute_result",
          "data": {
            "text/plain": [
              "<PIL.JpegImagePlugin.JpegImageFile image mode=RGB size=28x28 at 0x7FD6AC294670>"
            ],
            "image/png": "[encoded data removed]"
          },
          "metadata": {},
          "execution_count": 14
        }
      ]
    },
    {
      "cell_type": "markdown",
      "source": [
        "Properties of input image"
      ],
      "metadata": {
        "id": "rwyAA4XKwij2"
      }
    },
    {
      "cell_type": "code",
      "source": [
        "print(image.format)\n",
        "print(image.size)\n",
        "print(image.mode)\n",
        "# making array from imformation about pixels\n",
        "npimgdata = np.array(image)\n",
        "print(npimgdata.shape) # 3d array"
      ],
      "metadata": {
        "id": "hFi6vKvZOA7P",
        "colab": {
          "base_uri": "https://localhost:8080/"
        },
        "outputId": "c561caca-5959-44d6-c340-00d17fa461e1"
      },
      "execution_count": 15,
      "outputs": [
        {
          "output_type": "stream",
          "name": "stdout",
          "text": [
            "JPEG\n",
            "(28, 28)\n",
            "RGB\n",
            "(28, 28, 3)\n"
          ]
        }
      ]
    },
    {
      "cell_type": "code",
      "source": [
        "# Function to convert the rgb image to grayscale forming a weighted sum\n",
        "def rgb2gray(img):\n",
        "    r = img[:,:,0]\n",
        "    g = img[:,:,1]\n",
        "    b = img[:,:,2]\n",
        "    return (0.2989*r+0.5870*g+0.1140*b)"
      ],
      "metadata": {
        "id": "ASfUZ2SYRdwC"
      },
      "execution_count": 16,
      "outputs": []
    },
    {
      "cell_type": "code",
      "source": [
        "# read the image file\n",
        "img = plt.imread('/content/mnist_sample_1_28_28.jpg')\n",
        "print(img.shape)"
      ],
      "metadata": {
        "colab": {
          "base_uri": "https://localhost:8080/"
        },
        "id": "PRw7cK_wR6kv",
        "outputId": "f9a6e275-8b49-4c0e-b29e-ac3f80c16ae2"
      },
      "execution_count": 17,
      "outputs": [
        {
          "output_type": "stream",
          "name": "stdout",
          "text": [
            "(28, 28, 3)\n"
          ]
        }
      ]
    },
    {
      "cell_type": "code",
      "source": [
        "# implementing the function\n",
        "converted_img = rgb2gray(img)\n",
        "print(converted_img.shape)\n",
        "# plotting the converted grayscale image\n",
        "plt.imshow(converted_img,cmap='gray')\n",
        "plt.show()"
      ],
      "metadata": {
        "colab": {
          "base_uri": "https://localhost:8080/",
          "height": 282
        },
        "id": "4GBBjUPpSE7U",
        "outputId": "3edaca05-613f-425a-9a99-56620019755a"
      },
      "execution_count": 18,
      "outputs": [
        {
          "output_type": "stream",
          "name": "stdout",
          "text": [
            "(28, 28)\n"
          ]
        },
        {
          "output_type": "display_data",
          "data": {
            "text/plain": [
              "<Figure size 432x288 with 1 Axes>"
            ],
            "image/png": "[encoded data removed]"
          },
          "metadata": {
            "needs_background": "light"
          }
        }
      ]
    },
    {
      "cell_type": "markdown",
      "source": [
        "Image -> array"
      ],
      "metadata": {
        "id": "kBMBxByc9V5V"
      }
    },
    {
      "cell_type": "code",
      "source": [
        "# making array from image pixel data\n",
        "npimgdata2 = np.array(converted_img)\n",
        "print(npimgdata2.shape)\n",
        "#print(npimgdata2)"
      ],
      "metadata": {
        "colab": {
          "base_uri": "https://localhost:8080/"
        },
        "id": "FswU6rqgSkW6",
        "outputId": "e32ded29-82a0-4408-a4b2-9179764fe2fb"
      },
      "execution_count": 19,
      "outputs": [
        {
          "output_type": "stream",
          "name": "stdout",
          "text": [
            "(28, 28)\n"
          ]
        }
      ]
    },
    {
      "cell_type": "markdown",
      "source": [
        "Prediction of input using model"
      ],
      "metadata": {
        "id": "avT_fX6W9Y9a"
      }
    },
    {
      "cell_type": "code",
      "source": [
        "prdctn = new_model.predict([npimgdata2])\n",
        "# data scaling\n",
        "prdctn2 = tf.keras.utils.normalize(prdctn, axis=1)\n",
        "# predicted output\n",
        "print(np.argmax(prdctn2))"
      ],
      "metadata": {
        "colab": {
          "base_uri": "https://localhost:8080/"
        },
        "id": "NZWlUAxOTMwm",
        "outputId": "11335a80-f2e5-4467-b8cc-c12c32725f82"
      },
      "execution_count": 20,
      "outputs": [
        {
          "output_type": "stream",
          "name": "stdout",
          "text": [
            "1/1 [==============================] - 0s 59ms/step\n",
            "1\n"
          ]
        }
      ]
    },
    {
      "cell_type": "markdown",
      "source": [
        "# Converting to TFLite file"
      ],
      "metadata": {
        "id": "sE-im1hLB09y"
      }
    },
    {
      "cell_type": "code",
      "source": [
        "import tensorflow as tf\n",
        "\n",
        "# loading the model\n",
        "model = tf.keras.models.load_model('/content/mnist_model.h5')\n",
        "# to implement in android studio \n",
        "converter = tf.lite.TFLiteConverter.from_keras_model(model)\n",
        "# to convert tf.keras model to tflite\n",
        "tflite_model = converter.convert()\n",
        "# renaming the tflite model\n",
        "open(\"converted_model.tflite\", \"wb\").write(tflite_model)"
      ],
      "metadata": {
        "id": "Bq9oa04PRw5m",
        "colab": {
          "base_uri": "https://localhost:8080/"
        },
        "outputId": "d2717a25-3eba-49cb-bf59-a69b91c38714"
      },
      "execution_count": 21,
      "outputs": [
        {
          "output_type": "stream",
          "name": "stderr",
          "text": [
            "WARNING:absl:Found untraced functions such as _update_step_xla while saving (showing 1 of 1). These functions will not be directly callable after loading.\n"
          ]
        },
        {
          "output_type": "execute_result",
          "data": {
            "text/plain": [
              "475516"
            ]
          },
          "metadata": {},
          "execution_count": 21
        }
      ]
    },
    {
      "cell_type": "markdown",
      "source": [
        "## THE END :)"
      ],
      "metadata": {
        "id": "ZPwwywJODXew"
      }
    }
  ]
}